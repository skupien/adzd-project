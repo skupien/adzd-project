{
 "cells": [
  {
   "cell_type": "code",
   "execution_count": null,
   "metadata": {},
   "outputs": [],
   "source": [
    "!pip install ray\n",
    "!pip install pyarrow\n",
    "!pip install tabulate\n",
    "!pip install opendatasets\n",
    "!pip install opencv-python"
   ]
  },
  {
   "cell_type": "code",
   "execution_count": 15,
   "metadata": {},
   "outputs": [
    {
     "ename": "ModuleNotFoundError",
     "evalue": "No module named 'torch.nn.torchmetrics'",
     "output_type": "error",
     "traceback": [
      "\u001b[1;31m---------------------------------------------------------------------------\u001b[0m",
      "\u001b[1;31mModuleNotFoundError\u001b[0m                       Traceback (most recent call last)",
      "\u001b[1;32m<ipython-input-15-4737fa5004c4>\u001b[0m in \u001b[0;36m<module>\u001b[1;34m\u001b[0m\n\u001b[0;32m      7\u001b[0m \u001b[1;32mimport\u001b[0m \u001b[0mtorch\u001b[0m\u001b[1;33m.\u001b[0m\u001b[0mnn\u001b[0m\u001b[1;33m.\u001b[0m\u001b[0mfunctional\u001b[0m \u001b[1;32mas\u001b[0m \u001b[0mF\u001b[0m\u001b[1;33m\u001b[0m\u001b[1;33m\u001b[0m\u001b[0m\n\u001b[0;32m      8\u001b[0m \u001b[1;33m\u001b[0m\u001b[0m\n\u001b[1;32m----> 9\u001b[1;33m \u001b[1;32mimport\u001b[0m \u001b[0mtorch\u001b[0m\u001b[1;33m.\u001b[0m\u001b[0mnn\u001b[0m\u001b[1;33m.\u001b[0m\u001b[0mtorchmetrics\u001b[0m\u001b[1;33m.\u001b[0m\u001b[0mAccuracy\u001b[0m\u001b[1;33m\u001b[0m\u001b[1;33m\u001b[0m\u001b[0m\n\u001b[0m\u001b[0;32m     10\u001b[0m \u001b[1;33m\u001b[0m\u001b[0m\n\u001b[0;32m     11\u001b[0m \u001b[1;32mimport\u001b[0m \u001b[0mray\u001b[0m\u001b[1;33m\u001b[0m\u001b[1;33m\u001b[0m\u001b[0m\n",
      "\u001b[1;31mModuleNotFoundError\u001b[0m: No module named 'torch.nn.torchmetrics'"
     ]
    }
   ],
   "source": [
    "import opendatasets as od\n",
    "import numpy as np\n",
    "import pandas as pd\n",
    "\n",
    "import torch\n",
    "import torch.nn as nn\n",
    "import torch.nn.functional as F\n",
    "\n",
    "import torch.nn.torchmetrics.Accuracy\n",
    "\n",
    "import ray\n",
    "from ray import train\n",
    "from ray.air import session\n",
    "from ray.air.config import ScalingConfig\n",
    "from ray.train.torch import TorchCheckpoint, TorchTrainer\n",
    "from ray.data.preprocessors import Concatenator, Chain, StandardScaler\n",
    "from ray import tune\n",
    "from ray.tune.tuner import Tuner, TuneConfig\n",
    "from ray.air.config import RunConfig\n",
    "from ray.train.batch_predictor import BatchPredictor\n",
    "from ray.train.torch import TorchPredictor\n",
    "from ray.data.preprocessor import Preprocessor\n",
    "from ray.data.aggregate import Max\n",
    "from ray.data.datasource.partitioning import Partitioning\n",
    "import cv2\n",
    "\n",
    "from PIL import Image\n",
    "import os"
   ]
  },
  {
   "cell_type": "code",
   "execution_count": null,
   "metadata": {
    "scrolled": true
   },
   "outputs": [],
   "source": [
    "od.download(\n",
    "    \"https://www.kaggle.com/datasets/wwymak/architecture-dataset\")"
   ]
  },
  {
   "cell_type": "code",
   "execution_count": 2,
   "metadata": {},
   "outputs": [
    {
     "name": "stderr",
     "output_type": "stream",
     "text": [
      "2022-12-18 15:50:35,870\tINFO worker.py:1538 -- Started a local Ray instance.\n",
      "Read progress: 100%|█████████████████████████████████████████████████████████████████| 200/200 [00:19<00:00, 10.25it/s]\n",
      "Read progress: 100%|███████████████████████████████████████████████████████████████| 200/200 [00:00<00:00, 2023.81it/s]\n"
     ]
    }
   ],
   "source": [
    "root = \"architecture-dataset/architecture-dataset/arcDataset/\"\n",
    "partitioning = Partitioning(\"dir\", field_names=[\"class\"], base_dir=root)\n",
    "ds = ray.data.read_images(root, partitioning=partitioning)\n",
    "train_dataset, valid_dataset = ds.train_test_split(test_size=0.05)"
   ]
  },
  {
   "cell_type": "code",
   "execution_count": 3,
   "metadata": {},
   "outputs": [
    {
     "name": "stderr",
     "output_type": "stream",
     "text": [
      "Map_Batches: 100%|█████████████████████████████████████████████████████████████████████| 11/11 [00:00<00:00, 16.72it/s]\n"
     ]
    }
   ],
   "source": [
    "HEIGHT = 32\n",
    "WIDTH = 32\n",
    "CLASS_ID_MAPPING = {'Achaemenid architecture': 0, 'American Foursquare architecture': 1, 'American craftsman style': 2, 'Ancient Egyptian architecture': 3, 'Art Deco architecture': 4, 'Art Nouveau architecture': 5, 'Baroque architecture': 6, 'Bauhaus architecture': 7, 'Beaux-Arts architecture': 8, 'Byzantine architecture': 9, 'Chicago school architecture': 10, 'Colonial architecture': 11, 'Deconstructivism': 12, 'Edwardian architecture': 13, 'Georgian architecture': 14, 'Gothic architecture': 15, 'Greek Revival architecture': 16, 'International style': 17, 'Novelty architecture': 18, 'Palladian architecture': 19, 'Postmodern architecture': 20, 'Queen Anne architecture': 21, 'Romanesque architecture': 22, 'Russian Revival architecture': 23, 'Tudor Revival architecture': 24}\n",
    "\n",
    "class OpenCVPreprocessor(Preprocessor):\n",
    "    def _fit(self, dataset):\n",
    "        self.stats_ = None\n",
    "    \n",
    "    def _transform_numpy(self, df):\n",
    "        images = df[\"image\"]\n",
    "        result = []\n",
    "        for image in images:\n",
    "            image = cv2.Canny(image=image, threshold1=100, threshold2=200) \n",
    "            image = cv2.resize(image, (HEIGHT,WIDTH), interpolation=cv2.INTER_CUBIC)\n",
    "            result.append([image])\n",
    "        result = np.array(result)\n",
    "        df[\"image\"] = result\n",
    "        \n",
    "        classes = df[\"class\"]\n",
    "        result = []\n",
    "        for class_name in classes:\n",
    "            result.append(self._hot_encode(class_name))\n",
    "        result = np.array(result)\n",
    "        df[\"class\"] = result\n",
    "        return df\n",
    "\n",
    "    def _hot_encode(self, name):\n",
    "        result = CLASS_ID_MAPPING[name]\n",
    "        #result[] = 1\n",
    "        return result\n",
    "    \n",
    "preprocessor = OpenCVPreprocessor()\n",
    "transformed = preprocessor.fit_transform(valid_dataset)"
   ]
  },
  {
   "cell_type": "code",
   "execution_count": 62,
   "metadata": {},
   "outputs": [
    {
     "data": {
      "text/plain": [
       "array([0, 0, 0, 0, 0, 0, 0, 0, 0, 0, 0, 0, 0, 0, 0, 0, 0, 0, 0, 0, 0, 0,\n",
       "       0, 1, 0])"
      ]
     },
     "execution_count": 62,
     "metadata": {},
     "output_type": "execute_result"
    }
   ],
   "source": [
    "transformed.take(1)[0][\"class\"]"
   ]
  },
  {
   "cell_type": "code",
   "execution_count": 12,
   "metadata": {},
   "outputs": [
    {
     "name": "stderr",
     "output_type": "stream",
     "text": [
      "2022-12-18 16:04:08,035\tINFO data_parallel_trainer.py:286 -- GPUs are detected in your Ray cluster, but GPU training is not enabled for this trainer. To enable GPU training, make sure to set `use_gpu` to True in your scaling config.\n",
      "2022-12-18 16:04:08,056\tWARNING callback.py:108 -- The TensorboardX logger cannot be instantiated because either TensorboardX or one of it's dependencies is not installed. Please make sure you have the latest version of TensorboardX installed: `pip install -U tensorboardx`\n"
     ]
    },
    {
     "data": {
      "text/html": [
       "<div class=\"tuneStatus\">\n",
       "  <div style=\"display: flex;flex-direction: row\">\n",
       "    <div style=\"display: flex;flex-direction: column;\">\n",
       "      <h3>Tune Status</h3>\n",
       "      <table>\n",
       "<tbody>\n",
       "<tr><td>Current time:</td><td>2022-12-18 16:04:19</td></tr>\n",
       "<tr><td>Running for: </td><td>00:00:11.78        </td></tr>\n",
       "<tr><td>Memory:      </td><td>20.0/31.8 GiB      </td></tr>\n",
       "</tbody>\n",
       "</table>\n",
       "    </div>\n",
       "    <div class=\"vDivider\"></div>\n",
       "    <div class=\"systemInfo\">\n",
       "      <h3>System Info</h3>\n",
       "      Using FIFO scheduling algorithm.<br>Resources requested: 0/12 CPUs, 0/1 GPUs, 0.0/10.51 GiB heap, 0.0/5.25 GiB objects\n",
       "    </div>\n",
       "    <div class=\"vDivider\"></div>\n",
       "<div class=\"messages\">\n",
       "  <h3>Messages</h3>\n",
       "  \n",
       "  \n",
       "  Number of errored trials: 1<br><table>\n",
       "<thead>\n",
       "<tr><th>Trial name              </th><th style=\"text-align: right;\">  # failures</th><th>error file                                                                                                          </th></tr>\n",
       "</thead>\n",
       "<tbody>\n",
       "<tr><td>TorchTrainer_3899a_00000</td><td style=\"text-align: right;\">           1</td><td>C:\\Users\\lukas\\ray_results\\TorchTrainer_2022-12-18_16-04-08\\TorchTrainer_3899a_00000_0_2022-12-18_16-04-09\\error.txt</td></tr>\n",
       "</tbody>\n",
       "</table>\n",
       "</div>\n",
       "<style>\n",
       ".messages {\n",
       "  color: var(--jp-ui-font-color1);\n",
       "  display: flex;\n",
       "  flex-direction: column;\n",
       "  padding-left: 1em;\n",
       "  overflow-y: auto;\n",
       "}\n",
       ".messages h3 {\n",
       "  font-weight: bold;\n",
       "}\n",
       ".vDivider {\n",
       "  border-left-width: var(--jp-border-width);\n",
       "  border-left-color: var(--jp-border-color0);\n",
       "  border-left-style: solid;\n",
       "  margin: 0.5em 1em 0.5em 1em;\n",
       "}\n",
       "</style>\n",
       "\n",
       "  </div>\n",
       "  <div class=\"hDivider\"></div>\n",
       "  <div class=\"trialStatus\">\n",
       "    <h3>Trial Status</h3>\n",
       "    <table>\n",
       "<thead>\n",
       "<tr><th>Trial name              </th><th>status  </th><th>loc            </th><th style=\"text-align: right;\">  iter</th><th style=\"text-align: right;\">  total time (s)</th><th style=\"text-align: right;\">   loss</th><th style=\"text-align: right;\">  _timestamp</th><th style=\"text-align: right;\">  _time_this_iter_s</th></tr>\n",
       "</thead>\n",
       "<tbody>\n",
       "<tr><td>TorchTrainer_3899a_00000</td><td>ERROR   </td><td>127.0.0.1:10220</td><td style=\"text-align: right;\">     1</td><td style=\"text-align: right;\">         7.24772</td><td style=\"text-align: right;\">3.24762</td><td style=\"text-align: right;\">  1671375859</td><td style=\"text-align: right;\">          0.0680242</td></tr>\n",
       "</tbody>\n",
       "</table>\n",
       "  </div>\n",
       "</div>\n",
       "<style>\n",
       ".tuneStatus {\n",
       "  color: var(--jp-ui-font-color1);\n",
       "}\n",
       ".tuneStatus .systemInfo {\n",
       "  display: flex;\n",
       "  flex-direction: column;\n",
       "}\n",
       ".tuneStatus td {\n",
       "  white-space: nowrap;\n",
       "}\n",
       ".tuneStatus .trialStatus {\n",
       "  display: flex;\n",
       "  flex-direction: column;\n",
       "}\n",
       ".tuneStatus h3 {\n",
       "  font-weight: bold;\n",
       "}\n",
       ".tuneStatus .hDivider {\n",
       "  border-bottom-width: var(--jp-border-width);\n",
       "  border-bottom-color: var(--jp-border-color0);\n",
       "  border-bottom-style: solid;\n",
       "}\n",
       ".tuneStatus .vDivider {\n",
       "  border-left-width: var(--jp-border-width);\n",
       "  border-left-color: var(--jp-border-color0);\n",
       "  border-left-style: solid;\n",
       "  margin: 0.5em 1em 0.5em 1em;\n",
       "}\n",
       "</style>\n"
      ],
      "text/plain": [
       "<IPython.core.display.HTML object>"
      ]
     },
     "metadata": {},
     "output_type": "display_data"
    },
    {
     "name": "stderr",
     "output_type": "stream",
     "text": [
      "\u001b[2m\u001b[36m(TorchTrainer pid=10220)\u001b[0m 2022-12-18 16:04:12,333\tINFO data_parallel_trainer.py:286 -- GPUs are detected in your Ray cluster, but GPU training is not enabled for this trainer. To enable GPU training, make sure to set `use_gpu` to True in your scaling config.\n",
      "\u001b[2m\u001b[36m(TorchTrainer pid=10220)\u001b[0m C:\\Users\\lukas\\anaconda3\\lib\\site-packages\\ray\\data\\preprocessor.py:99: UserWarning: `fit` has already been called on the preprocessor (or at least one contained preprocessors if this is a chain). All previously fitted state will be overwritten!\n",
      "\u001b[2m\u001b[36m(TorchTrainer pid=10220)\u001b[0m   warnings.warn(\n",
      "\u001b[2m\u001b[36m(RayTrainWorker pid=14780)\u001b[0m 2022-12-18 16:04:19,327\tINFO config.py:86 -- Setting up process group for: env:// [rank=0, world_size=3]\n",
      "\u001b[2m\u001b[36m(RayTrainWorker pid=14780)\u001b[0m 2022-12-18 16:04:19,491\tINFO train_loop_utils.py:270 -- Moving model to device: cpu\n",
      "\u001b[2m\u001b[36m(RayTrainWorker pid=14780)\u001b[0m 2022-12-18 16:04:19,491\tINFO train_loop_utils.py:330 -- Wrapping provided model in DistributedDataParallel.\n"
     ]
    },
    {
     "data": {
      "text/html": [
       "<div class=\"trialProgress\">\n",
       "  <h3>Trial Progress</h3>\n",
       "  <table>\n",
       "<thead>\n",
       "<tr><th>Trial name              </th><th style=\"text-align: right;\">  _time_this_iter_s</th><th style=\"text-align: right;\">  _timestamp</th><th style=\"text-align: right;\">  _training_iteration</th><th>date               </th><th>done  </th><th>episodes_total  </th><th>experiment_id                   </th><th style=\"text-align: right;\">  experiment_tag</th><th>hostname       </th><th style=\"text-align: right;\">  iterations_since_restore</th><th style=\"text-align: right;\">   loss</th><th>node_ip  </th><th style=\"text-align: right;\">  pid</th><th>should_checkpoint  </th><th style=\"text-align: right;\">  time_since_restore</th><th style=\"text-align: right;\">  time_this_iter_s</th><th style=\"text-align: right;\">  time_total_s</th><th style=\"text-align: right;\">  timestamp</th><th style=\"text-align: right;\">  timesteps_since_restore</th><th>timesteps_total  </th><th style=\"text-align: right;\">  training_iteration</th><th>trial_id   </th><th style=\"text-align: right;\">  warmup_time</th></tr>\n",
       "</thead>\n",
       "<tbody>\n",
       "<tr><td>TorchTrainer_3899a_00000</td><td style=\"text-align: right;\">          0.0680242</td><td style=\"text-align: right;\">  1671375859</td><td style=\"text-align: right;\">                    1</td><td>2022-12-18_16-04-19</td><td>False </td><td>                </td><td>1481f91fb17545c0a0ed2a299b21515c</td><td style=\"text-align: right;\">               0</td><td>LAPTOP-S8FJSVCO</td><td style=\"text-align: right;\">                         1</td><td style=\"text-align: right;\">3.24762</td><td>127.0.0.1</td><td style=\"text-align: right;\">10220</td><td>True               </td><td style=\"text-align: right;\">             7.24772</td><td style=\"text-align: right;\">           7.24772</td><td style=\"text-align: right;\">       7.24772</td><td style=\"text-align: right;\"> 1671375859</td><td style=\"text-align: right;\">                        0</td><td>                 </td><td style=\"text-align: right;\">                   1</td><td>3899a_00000</td><td style=\"text-align: right;\">    0.0406878</td></tr>\n",
       "</tbody>\n",
       "</table>\n",
       "</div>\n",
       "<style>\n",
       ".trialProgress {\n",
       "  display: flex;\n",
       "  flex-direction: column;\n",
       "  color: var(--jp-ui-font-color1);\n",
       "}\n",
       ".trialProgress h3 {\n",
       "  font-weight: bold;\n",
       "}\n",
       ".trialProgress td {\n",
       "  white-space: nowrap;\n",
       "}\n",
       "</style>\n"
      ],
      "text/plain": [
       "<IPython.core.display.HTML object>"
      ]
     },
     "metadata": {},
     "output_type": "display_data"
    },
    {
     "name": "stderr",
     "output_type": "stream",
     "text": [
      "2022-12-18 16:04:19,825\tERROR trial_runner.py:1088 -- Trial TorchTrainer_3899a_00000: Error processing event.\n",
      "ray.exceptions.RayTaskError(NameError): \u001b[36mray::_Inner.train()\u001b[39m (pid=10220, ip=127.0.0.1, repr=TorchTrainer)\n",
      "  File \"python\\ray\\_raylet.pyx\", line 830, in ray._raylet.execute_task\n",
      "  File \"python\\ray\\_raylet.pyx\", line 834, in ray._raylet.execute_task\n",
      "  File \"python\\ray\\_raylet.pyx\", line 780, in ray._raylet.execute_task.function_executor\n",
      "  File \"C:\\Users\\lukas\\anaconda3\\lib\\site-packages\\ray\\_private\\function_manager.py\", line 674, in actor_method_executor\n",
      "    return method(__ray_actor, *args, **kwargs)\n",
      "  File \"C:\\Users\\lukas\\anaconda3\\lib\\site-packages\\ray\\util\\tracing\\tracing_helper.py\", line 466, in _resume_span\n",
      "    return method(self, *_args, **_kwargs)\n",
      "  File \"C:\\Users\\lukas\\anaconda3\\lib\\site-packages\\ray\\tune\\trainable\\trainable.py\", line 367, in train\n",
      "    raise skipped from exception_cause(skipped)\n",
      "  File \"C:\\Users\\lukas\\anaconda3\\lib\\site-packages\\ray\\train\\_internal\\utils.py\", line 54, in check_for_failure\n",
      "    ray.get(object_ref)\n",
      "  File \"C:\\Users\\lukas\\anaconda3\\lib\\site-packages\\ray\\_private\\client_mode_hook.py\", line 105, in wrapper\n",
      "    return func(*args, **kwargs)\n",
      "  File \"C:\\Users\\lukas\\anaconda3\\lib\\site-packages\\ray\\_private\\worker.py\", line 2309, in get\n",
      "    raise value.as_instanceof_cause()\n",
      "ray.exceptions.RayTaskError(NameError): \u001b[36mray::RayTrainWorker._RayTrainWorker__execute()\u001b[39m (pid=14780, ip=127.0.0.1, repr=<ray.train._internal.worker_group.RayTrainWorker object at 0x000002C37ADE2790>)\n",
      "  File \"python\\ray\\_raylet.pyx\", line 830, in ray._raylet.execute_task\n",
      "  File \"python\\ray\\_raylet.pyx\", line 834, in ray._raylet.execute_task\n",
      "  File \"python\\ray\\_raylet.pyx\", line 780, in ray._raylet.execute_task.function_executor\n",
      "  File \"C:\\Users\\lukas\\anaconda3\\lib\\site-packages\\ray\\_private\\function_manager.py\", line 674, in actor_method_executor\n",
      "    return method(__ray_actor, *args, **kwargs)\n",
      "  File \"C:\\Users\\lukas\\anaconda3\\lib\\site-packages\\ray\\util\\tracing\\tracing_helper.py\", line 466, in _resume_span\n",
      "    return method(self, *_args, **_kwargs)\n",
      "  File \"C:\\Users\\lukas\\anaconda3\\lib\\site-packages\\ray\\train\\_internal\\worker_group.py\", line 31, in __execute\n",
      "    raise skipped from exception_cause(skipped)\n",
      "  File \"C:\\Users\\lukas\\anaconda3\\lib\\site-packages\\ray\\train\\_internal\\utils.py\", line 129, in discard_return_wrapper\n",
      "    train_func(*args, **kwargs)\n",
      "  File \"<ipython-input-12-67426eb76e76>\", line 51, in train_loop_per_worker\n",
      "NameError: name 'Accuracy' is not defined\n",
      "2022-12-18 16:04:19,952\tERROR tune.py:758 -- Trials did not complete: [TorchTrainer_3899a_00000]\n",
      "2022-12-18 16:04:19,952\tINFO tune.py:762 -- Total run time: 11.90 seconds (11.77 seconds for the tuning loop).\n"
     ]
    },
    {
     "ename": "RayTaskError(NameError)",
     "evalue": "\u001b[36mray::_Inner.train()\u001b[39m (pid=10220, ip=127.0.0.1, repr=TorchTrainer)\n  File \"python\\ray\\_raylet.pyx\", line 830, in ray._raylet.execute_task\n  File \"python\\ray\\_raylet.pyx\", line 834, in ray._raylet.execute_task\n  File \"python\\ray\\_raylet.pyx\", line 780, in ray._raylet.execute_task.function_executor\n  File \"C:\\Users\\lukas\\anaconda3\\lib\\site-packages\\ray\\_private\\function_manager.py\", line 674, in actor_method_executor\n    return method(__ray_actor, *args, **kwargs)\n  File \"C:\\Users\\lukas\\anaconda3\\lib\\site-packages\\ray\\util\\tracing\\tracing_helper.py\", line 466, in _resume_span\n    return method(self, *_args, **_kwargs)\n  File \"C:\\Users\\lukas\\anaconda3\\lib\\site-packages\\ray\\tune\\trainable\\trainable.py\", line 367, in train\n    raise skipped from exception_cause(skipped)\n  File \"C:\\Users\\lukas\\anaconda3\\lib\\site-packages\\ray\\train\\_internal\\utils.py\", line 54, in check_for_failure\n    ray.get(object_ref)\n  File \"C:\\Users\\lukas\\anaconda3\\lib\\site-packages\\ray\\_private\\client_mode_hook.py\", line 105, in wrapper\n    return func(*args, **kwargs)\n  File \"C:\\Users\\lukas\\anaconda3\\lib\\site-packages\\ray\\_private\\worker.py\", line 2309, in get\n    raise value.as_instanceof_cause()\nray.exceptions.RayTaskError(NameError): \u001b[36mray::RayTrainWorker._RayTrainWorker__execute()\u001b[39m (pid=14780, ip=127.0.0.1, repr=<ray.train._internal.worker_group.RayTrainWorker object at 0x000002C37ADE2790>)\n  File \"python\\ray\\_raylet.pyx\", line 830, in ray._raylet.execute_task\n  File \"python\\ray\\_raylet.pyx\", line 834, in ray._raylet.execute_task\n  File \"python\\ray\\_raylet.pyx\", line 780, in ray._raylet.execute_task.function_executor\n  File \"C:\\Users\\lukas\\anaconda3\\lib\\site-packages\\ray\\_private\\function_manager.py\", line 674, in actor_method_executor\n    return method(__ray_actor, *args, **kwargs)\n  File \"C:\\Users\\lukas\\anaconda3\\lib\\site-packages\\ray\\util\\tracing\\tracing_helper.py\", line 466, in _resume_span\n    return method(self, *_args, **_kwargs)\n  File \"C:\\Users\\lukas\\anaconda3\\lib\\site-packages\\ray\\train\\_internal\\worker_group.py\", line 31, in __execute\n    raise skipped from exception_cause(skipped)\n  File \"C:\\Users\\lukas\\anaconda3\\lib\\site-packages\\ray\\train\\_internal\\utils.py\", line 129, in discard_return_wrapper\n    train_func(*args, **kwargs)\n  File \"<ipython-input-12-67426eb76e76>\", line 51, in train_loop_per_worker\nNameError: name 'Accuracy' is not defined",
     "output_type": "error",
     "traceback": [
      "\u001b[1;31m---------------------------------------------------------------------------\u001b[0m",
      "\u001b[1;31mRayTaskError(NameError)\u001b[0m                   Traceback (most recent call last)",
      "\u001b[1;32m<ipython-input-12-67426eb76e76>\u001b[0m in \u001b[0;36m<module>\u001b[1;34m\u001b[0m\n\u001b[0;32m     71\u001b[0m )\n\u001b[0;32m     72\u001b[0m \u001b[1;33m\u001b[0m\u001b[0m\n\u001b[1;32m---> 73\u001b[1;33m \u001b[0mresult\u001b[0m \u001b[1;33m=\u001b[0m \u001b[0mtrainer\u001b[0m\u001b[1;33m.\u001b[0m\u001b[0mfit\u001b[0m\u001b[1;33m(\u001b[0m\u001b[1;33m)\u001b[0m\u001b[1;33m\u001b[0m\u001b[1;33m\u001b[0m\u001b[0m\n\u001b[0m\u001b[0;32m     74\u001b[0m \u001b[0mprint\u001b[0m\u001b[1;33m(\u001b[0m\u001b[1;34mf\"Last result: {result.metrics}\"\u001b[0m\u001b[1;33m)\u001b[0m\u001b[1;33m\u001b[0m\u001b[1;33m\u001b[0m\u001b[0m\n",
      "\u001b[1;32m~\\anaconda3\\lib\\site-packages\\ray\\train\\base_trainer.py\u001b[0m in \u001b[0;36mfit\u001b[1;34m(self)\u001b[0m\n\u001b[0;32m    358\u001b[0m             \u001b[0mresult\u001b[0m \u001b[1;33m=\u001b[0m \u001b[0mresult_grid\u001b[0m\u001b[1;33m[\u001b[0m\u001b[1;36m0\u001b[0m\u001b[1;33m]\u001b[0m\u001b[1;33m\u001b[0m\u001b[1;33m\u001b[0m\u001b[0m\n\u001b[0;32m    359\u001b[0m             \u001b[1;32mif\u001b[0m \u001b[0mresult\u001b[0m\u001b[1;33m.\u001b[0m\u001b[0merror\u001b[0m\u001b[1;33m:\u001b[0m\u001b[1;33m\u001b[0m\u001b[1;33m\u001b[0m\u001b[0m\n\u001b[1;32m--> 360\u001b[1;33m                 \u001b[1;32mraise\u001b[0m \u001b[0mresult\u001b[0m\u001b[1;33m.\u001b[0m\u001b[0merror\u001b[0m\u001b[1;33m\u001b[0m\u001b[1;33m\u001b[0m\u001b[0m\n\u001b[0m\u001b[0;32m    361\u001b[0m         \u001b[1;32mexcept\u001b[0m \u001b[0mTuneError\u001b[0m \u001b[1;32mas\u001b[0m \u001b[0me\u001b[0m\u001b[1;33m:\u001b[0m\u001b[1;33m\u001b[0m\u001b[1;33m\u001b[0m\u001b[0m\n\u001b[0;32m    362\u001b[0m             \u001b[1;32mraise\u001b[0m \u001b[0mTrainingFailedError\u001b[0m \u001b[1;32mfrom\u001b[0m \u001b[0me\u001b[0m\u001b[1;33m\u001b[0m\u001b[1;33m\u001b[0m\u001b[0m\n",
      "\u001b[1;31mRayTaskError(NameError)\u001b[0m: \u001b[36mray::_Inner.train()\u001b[39m (pid=10220, ip=127.0.0.1, repr=TorchTrainer)\n  File \"python\\ray\\_raylet.pyx\", line 830, in ray._raylet.execute_task\n  File \"python\\ray\\_raylet.pyx\", line 834, in ray._raylet.execute_task\n  File \"python\\ray\\_raylet.pyx\", line 780, in ray._raylet.execute_task.function_executor\n  File \"C:\\Users\\lukas\\anaconda3\\lib\\site-packages\\ray\\_private\\function_manager.py\", line 674, in actor_method_executor\n    return method(__ray_actor, *args, **kwargs)\n  File \"C:\\Users\\lukas\\anaconda3\\lib\\site-packages\\ray\\util\\tracing\\tracing_helper.py\", line 466, in _resume_span\n    return method(self, *_args, **_kwargs)\n  File \"C:\\Users\\lukas\\anaconda3\\lib\\site-packages\\ray\\tune\\trainable\\trainable.py\", line 367, in train\n    raise skipped from exception_cause(skipped)\n  File \"C:\\Users\\lukas\\anaconda3\\lib\\site-packages\\ray\\train\\_internal\\utils.py\", line 54, in check_for_failure\n    ray.get(object_ref)\n  File \"C:\\Users\\lukas\\anaconda3\\lib\\site-packages\\ray\\_private\\client_mode_hook.py\", line 105, in wrapper\n    return func(*args, **kwargs)\n  File \"C:\\Users\\lukas\\anaconda3\\lib\\site-packages\\ray\\_private\\worker.py\", line 2309, in get\n    raise value.as_instanceof_cause()\nray.exceptions.RayTaskError(NameError): \u001b[36mray::RayTrainWorker._RayTrainWorker__execute()\u001b[39m (pid=14780, ip=127.0.0.1, repr=<ray.train._internal.worker_group.RayTrainWorker object at 0x000002C37ADE2790>)\n  File \"python\\ray\\_raylet.pyx\", line 830, in ray._raylet.execute_task\n  File \"python\\ray\\_raylet.pyx\", line 834, in ray._raylet.execute_task\n  File \"python\\ray\\_raylet.pyx\", line 780, in ray._raylet.execute_task.function_executor\n  File \"C:\\Users\\lukas\\anaconda3\\lib\\site-packages\\ray\\_private\\function_manager.py\", line 674, in actor_method_executor\n    return method(__ray_actor, *args, **kwargs)\n  File \"C:\\Users\\lukas\\anaconda3\\lib\\site-packages\\ray\\util\\tracing\\tracing_helper.py\", line 466, in _resume_span\n    return method(self, *_args, **_kwargs)\n  File \"C:\\Users\\lukas\\anaconda3\\lib\\site-packages\\ray\\train\\_internal\\worker_group.py\", line 31, in __execute\n    raise skipped from exception_cause(skipped)\n  File \"C:\\Users\\lukas\\anaconda3\\lib\\site-packages\\ray\\train\\_internal\\utils.py\", line 129, in discard_return_wrapper\n    train_func(*args, **kwargs)\n  File \"<ipython-input-12-67426eb76e76>\", line 51, in train_loop_per_worker\nNameError: name 'Accuracy' is not defined"
     ]
    }
   ],
   "source": [
    "NUMBER_OF_CLASSES = len(CLASS_ID_MAPPING)\n",
    "\n",
    "class CNN(nn.Module):\n",
    "    def __init__(self, number_of_classes):\n",
    "        super().__init__()\n",
    "        self.conv1 = nn.Conv2d(1, 6, 5)\n",
    "        self.pool = nn.MaxPool2d(2, 2)\n",
    "        self.conv2 = nn.Conv2d(6, 16, 5)\n",
    "        self.fc1 = nn.Linear(16 * 5 * 5, 120)\n",
    "        self.fc2 = nn.Linear(120, 84)\n",
    "        self.fc3 = nn.Linear(84, number_of_classes)\n",
    "\n",
    "    def forward(self, x):\n",
    "        x = self.pool(F.relu(self.conv1(x)))\n",
    "        x = self.pool(F.relu(self.conv2(x)))\n",
    "        x = torch.flatten(x, 1) # flatten all dimensions except batch\n",
    "        x = F.relu(self.fc1(x))\n",
    "        x = F.relu(self.fc2(x))\n",
    "        x = self.fc3(x)\n",
    "        return x\n",
    "\n",
    "\n",
    "\n",
    "def train_loop_per_worker(config):\n",
    "    batch_size = config[\"batch_size\"]\n",
    "    lr = config[\"lr\"]\n",
    "    epochs = config[\"num_epochs\"]\n",
    "    number_of_classes = config[\"number_of_classes\"]\n",
    "\n",
    "    train_data = session.get_dataset_shard(\"train\")\n",
    "    model = CNN(number_of_classes)\n",
    "    model = train.torch.prepare_model(model)\n",
    "    \n",
    "    loss_fn = nn.CrossEntropyLoss()\n",
    "    optimizer = torch.optim.SGD(model.parameters(), lr=lr)\n",
    "\n",
    "    for cur_epoch in range(epochs):\n",
    "        for batch in train_data.iter_torch_batches(\n",
    "            batch_size=batch_size, dtypes=torch.float32\n",
    "        ):\n",
    "            inputs, labels = batch[\"image\"], batch[\"class\"]\n",
    "            optimizer.zero_grad()\n",
    "            predictions = model(inputs)\n",
    "            train_loss = loss_fn(predictions, labels.type(torch.LongTensor))\n",
    "            train_loss.backward()\n",
    "            optimizer.step()\n",
    "        loss = train_loss.item()\n",
    "        session.report({\"loss\": loss}, checkpoint=TorchCheckpoint.from_model(model))\n",
    "        \n",
    "    \n",
    "        accuracy = Accuracy(task=\"multiclass\", num_classes=NUMBER_OF_CLASSES)\n",
    "\n",
    "        session.report({\"accuracy\": accuracy(predictions, labels)}, checkpoint=TorchCheckpoint.from_model(model))\n",
    "        \n",
    "\n",
    "trainer = TorchTrainer(\n",
    "    train_loop_per_worker=train_loop_per_worker,\n",
    "    train_loop_config={\n",
    "        \"batch_size\": 128,\n",
    "        \"num_epochs\": 20,\n",
    "        \"lr\": 0.001,\n",
    "        \"number_of_classes\": NUMBER_OF_CLASSES\n",
    "    },\n",
    "    scaling_config=ScalingConfig(\n",
    "        num_workers=3, \n",
    "        use_gpu=False,\n",
    "        trainer_resources={\"CPU\": 0},\n",
    "    ),\n",
    "    datasets={\"train\": valid_dataset},\n",
    "    preprocessor=preprocessor,\n",
    ")\n",
    "\n",
    "result = trainer.fit()\n",
    "print(f\"Last result: {result.metrics}\")"
   ]
  },
  {
   "cell_type": "code",
   "execution_count": null,
   "metadata": {},
   "outputs": [],
   "source": []
  }
 ],
 "metadata": {
  "kernelspec": {
   "display_name": "Python 3",
   "language": "python",
   "name": "python3"
  },
  "language_info": {
   "codemirror_mode": {
    "name": "ipython",
    "version": 3
   },
   "file_extension": ".py",
   "mimetype": "text/x-python",
   "name": "python",
   "nbconvert_exporter": "python",
   "pygments_lexer": "ipython3",
   "version": "3.8.8"
  }
 },
 "nbformat": 4,
 "nbformat_minor": 1
}
